{
  "metadata": {
    "kernelspec": {
      "name": "python",
      "display_name": "Python (Pyodide)",
      "language": "python"
    },
    "language_info": {
      "codemirror_mode": {
        "name": "python",
        "version": 3
      },
      "file_extension": ".py",
      "mimetype": "text/x-python",
      "name": "python",
      "nbconvert_exporter": "python",
      "pygments_lexer": "ipython3",
      "version": "3.8"
    }
  },
  "nbformat_minor": 5,
  "nbformat": 4,
  "cells": [
    {
      "id": "6ea21f9a",
      "cell_type": "code",
      "source": "import pandas as pd\nfrom sklearn.metrics import accuracy_score\nfrom sklearn.model_selection import GridSearchCV\nfrom sklearn.model_selection import train_test_split\nfrom sklearn.neighbors import KNeighborsClassifier\nfrom sklearn import linear_model\nfrom sklearn.pipeline import Pipeline\nfrom sklearn.preprocessing import StandardScaler\nfrom sklearn import decomposition",
      "metadata": {
        "trusted": true
      },
      "outputs": [],
      "execution_count": 1
    },
    {
      "id": "73635a1c",
      "cell_type": "code",
      "source": "df = pd.read_csv('Churn.csv')\ndf.head(10)",
      "metadata": {
        "trusted": true
      },
      "outputs": [
        {
          "execution_count": 2,
          "output_type": "execute_result",
          "data": {
            "text/plain": "   RowNumber  CustomerId   Surname  CreditScore Geography  Gender  Age  \\\n0          1    15634602  Hargrave          619    France  Female   42   \n1          2    15647311      Hill          608     Spain  Female   41   \n2          3    15619304      Onio          502    France  Female   42   \n3          4    15701354      Boni          699    France  Female   39   \n4          5    15737888  Mitchell          850     Spain  Female   43   \n5          6    15574012       Chu          645     Spain    Male   44   \n6          7    15592531  Bartlett          822    France    Male   50   \n7          8    15656148    Obinna          376   Germany  Female   29   \n8          9    15792365        He          501    France    Male   44   \n9         10    15592389        H?          684    France    Male   27   \n\n   Tenure    Balance  NumOfProducts  HasCrCard  IsActiveMember  \\\n0     2.0       0.00              1          1               1   \n1     1.0   83807.86              1          0               1   \n2     8.0  159660.80              3          1               0   \n3     1.0       0.00              2          0               0   \n4     2.0  125510.82              1          1               1   \n5     8.0  113755.78              2          1               0   \n6     7.0       0.00              2          1               1   \n7     4.0  115046.74              4          1               0   \n8     4.0  142051.07              2          0               1   \n9     2.0  134603.88              1          1               1   \n\n   EstimatedSalary  Exited  \n0        101348.88       1  \n1        112542.58       0  \n2        113931.57       1  \n3         93826.63       0  \n4         79084.10       0  \n5        149756.71       1  \n6         10062.80       0  \n7        119346.88       1  \n8         74940.50       0  \n9         71725.73       0  ",
            "text/html": "<div>\n<style scoped>\n    .dataframe tbody tr th:only-of-type {\n        vertical-align: middle;\n    }\n\n    .dataframe tbody tr th {\n        vertical-align: top;\n    }\n\n    .dataframe thead th {\n        text-align: right;\n    }\n</style>\n<table border=\"1\" class=\"dataframe\">\n  <thead>\n    <tr style=\"text-align: right;\">\n      <th></th>\n      <th>RowNumber</th>\n      <th>CustomerId</th>\n      <th>Surname</th>\n      <th>CreditScore</th>\n      <th>Geography</th>\n      <th>Gender</th>\n      <th>Age</th>\n      <th>Tenure</th>\n      <th>Balance</th>\n      <th>NumOfProducts</th>\n      <th>HasCrCard</th>\n      <th>IsActiveMember</th>\n      <th>EstimatedSalary</th>\n      <th>Exited</th>\n    </tr>\n  </thead>\n  <tbody>\n    <tr>\n      <th>0</th>\n      <td>1</td>\n      <td>15634602</td>\n      <td>Hargrave</td>\n      <td>619</td>\n      <td>France</td>\n      <td>Female</td>\n      <td>42</td>\n      <td>2.0</td>\n      <td>0.00</td>\n      <td>1</td>\n      <td>1</td>\n      <td>1</td>\n      <td>101348.88</td>\n      <td>1</td>\n    </tr>\n    <tr>\n      <th>1</th>\n      <td>2</td>\n      <td>15647311</td>\n      <td>Hill</td>\n      <td>608</td>\n      <td>Spain</td>\n      <td>Female</td>\n      <td>41</td>\n      <td>1.0</td>\n      <td>83807.86</td>\n      <td>1</td>\n      <td>0</td>\n      <td>1</td>\n      <td>112542.58</td>\n      <td>0</td>\n    </tr>\n    <tr>\n      <th>2</th>\n      <td>3</td>\n      <td>15619304</td>\n      <td>Onio</td>\n      <td>502</td>\n      <td>France</td>\n      <td>Female</td>\n      <td>42</td>\n      <td>8.0</td>\n      <td>159660.80</td>\n      <td>3</td>\n      <td>1</td>\n      <td>0</td>\n      <td>113931.57</td>\n      <td>1</td>\n    </tr>\n    <tr>\n      <th>3</th>\n      <td>4</td>\n      <td>15701354</td>\n      <td>Boni</td>\n      <td>699</td>\n      <td>France</td>\n      <td>Female</td>\n      <td>39</td>\n      <td>1.0</td>\n      <td>0.00</td>\n      <td>2</td>\n      <td>0</td>\n      <td>0</td>\n      <td>93826.63</td>\n      <td>0</td>\n    </tr>\n    <tr>\n      <th>4</th>\n      <td>5</td>\n      <td>15737888</td>\n      <td>Mitchell</td>\n      <td>850</td>\n      <td>Spain</td>\n      <td>Female</td>\n      <td>43</td>\n      <td>2.0</td>\n      <td>125510.82</td>\n      <td>1</td>\n      <td>1</td>\n      <td>1</td>\n      <td>79084.10</td>\n      <td>0</td>\n    </tr>\n    <tr>\n      <th>5</th>\n      <td>6</td>\n      <td>15574012</td>\n      <td>Chu</td>\n      <td>645</td>\n      <td>Spain</td>\n      <td>Male</td>\n      <td>44</td>\n      <td>8.0</td>\n      <td>113755.78</td>\n      <td>2</td>\n      <td>1</td>\n      <td>0</td>\n      <td>149756.71</td>\n      <td>1</td>\n    </tr>\n    <tr>\n      <th>6</th>\n      <td>7</td>\n      <td>15592531</td>\n      <td>Bartlett</td>\n      <td>822</td>\n      <td>France</td>\n      <td>Male</td>\n      <td>50</td>\n      <td>7.0</td>\n      <td>0.00</td>\n      <td>2</td>\n      <td>1</td>\n      <td>1</td>\n      <td>10062.80</td>\n      <td>0</td>\n    </tr>\n    <tr>\n      <th>7</th>\n      <td>8</td>\n      <td>15656148</td>\n      <td>Obinna</td>\n      <td>376</td>\n      <td>Germany</td>\n      <td>Female</td>\n      <td>29</td>\n      <td>4.0</td>\n      <td>115046.74</td>\n      <td>4</td>\n      <td>1</td>\n      <td>0</td>\n      <td>119346.88</td>\n      <td>1</td>\n    </tr>\n    <tr>\n      <th>8</th>\n      <td>9</td>\n      <td>15792365</td>\n      <td>He</td>\n      <td>501</td>\n      <td>France</td>\n      <td>Male</td>\n      <td>44</td>\n      <td>4.0</td>\n      <td>142051.07</td>\n      <td>2</td>\n      <td>0</td>\n      <td>1</td>\n      <td>74940.50</td>\n      <td>0</td>\n    </tr>\n    <tr>\n      <th>9</th>\n      <td>10</td>\n      <td>15592389</td>\n      <td>H?</td>\n      <td>684</td>\n      <td>France</td>\n      <td>Male</td>\n      <td>27</td>\n      <td>2.0</td>\n      <td>134603.88</td>\n      <td>1</td>\n      <td>1</td>\n      <td>1</td>\n      <td>71725.73</td>\n      <td>0</td>\n    </tr>\n  </tbody>\n</table>\n</div>"
          },
          "metadata": {}
        }
      ],
      "execution_count": 2
    },
    {
      "id": "82d1d59f",
      "cell_type": "code",
      "source": "df.info()",
      "metadata": {
        "trusted": true
      },
      "outputs": [
        {
          "name": "stdout",
          "text": "<class 'pandas.core.frame.DataFrame'>\nRangeIndex: 10000 entries, 0 to 9999\nData columns (total 14 columns):\n #   Column           Non-Null Count  Dtype  \n---  ------           --------------  -----  \n 0   RowNumber        10000 non-null  int64  \n 1   CustomerId       10000 non-null  int64  \n 2   Surname          10000 non-null  object \n 3   CreditScore      10000 non-null  int64  \n 4   Geography        10000 non-null  object \n 5   Gender           10000 non-null  object \n 6   Age              10000 non-null  int64  \n 7   Tenure           9091 non-null   float64\n 8   Balance          10000 non-null  float64\n 9   NumOfProducts    10000 non-null  int64  \n 10  HasCrCard        10000 non-null  int64  \n 11  IsActiveMember   10000 non-null  int64  \n 12  EstimatedSalary  10000 non-null  float64\n 13  Exited           10000 non-null  int64  \ndtypes: float64(3), int64(8), object(3)\nmemory usage: 976.6+ KB\n",
          "output_type": "stream"
        }
      ],
      "execution_count": 3
    },
    {
      "id": "5c2a6795-4d54-4ee9-93b2-65c7c464677a",
      "cell_type": "markdown",
      "source": "### Проверяем null'ы",
      "metadata": {}
    },
    {
      "id": "80159ccd",
      "cell_type": "code",
      "source": "df.isnull().sum()",
      "metadata": {
        "trusted": true
      },
      "outputs": [
        {
          "execution_count": 4,
          "output_type": "execute_result",
          "data": {
            "text/plain": "RowNumber            0\nCustomerId           0\nSurname              0\nCreditScore          0\nGeography            0\nGender               0\nAge                  0\nTenure             909\nBalance              0\nNumOfProducts        0\nHasCrCard            0\nIsActiveMember       0\nEstimatedSalary      0\nExited               0\ndtype: int64"
          },
          "metadata": {}
        }
      ],
      "execution_count": 4
    },
    {
      "id": "a66db29a",
      "cell_type": "code",
      "source": "df.describe()",
      "metadata": {
        "trusted": true
      },
      "outputs": [
        {
          "execution_count": 5,
          "output_type": "execute_result",
          "data": {
            "text/plain": "         RowNumber    CustomerId   CreditScore           Age       Tenure  \\\ncount  10000.00000  1.000000e+04  10000.000000  10000.000000  9091.000000   \nmean    5000.50000  1.569094e+07    650.528800     38.921800     4.997690   \nstd     2886.89568  7.193619e+04     96.653299     10.487806     2.894723   \nmin        1.00000  1.556570e+07    350.000000     18.000000     0.000000   \n25%     2500.75000  1.562853e+07    584.000000     32.000000     2.000000   \n50%     5000.50000  1.569074e+07    652.000000     37.000000     5.000000   \n75%     7500.25000  1.575323e+07    718.000000     44.000000     7.000000   \nmax    10000.00000  1.581569e+07    850.000000     92.000000    10.000000   \n\n             Balance  NumOfProducts    HasCrCard  IsActiveMember  \\\ncount   10000.000000   10000.000000  10000.00000    10000.000000   \nmean    76485.889288       1.530200      0.70550        0.515100   \nstd     62397.405202       0.581654      0.45584        0.499797   \nmin         0.000000       1.000000      0.00000        0.000000   \n25%         0.000000       1.000000      0.00000        0.000000   \n50%     97198.540000       1.000000      1.00000        1.000000   \n75%    127644.240000       2.000000      1.00000        1.000000   \nmax    250898.090000       4.000000      1.00000        1.000000   \n\n       EstimatedSalary        Exited  \ncount     10000.000000  10000.000000  \nmean     100090.239881      0.203700  \nstd       57510.492818      0.402769  \nmin          11.580000      0.000000  \n25%       51002.110000      0.000000  \n50%      100193.915000      0.000000  \n75%      149388.247500      0.000000  \nmax      199992.480000      1.000000  ",
            "text/html": "<div>\n<style scoped>\n    .dataframe tbody tr th:only-of-type {\n        vertical-align: middle;\n    }\n\n    .dataframe tbody tr th {\n        vertical-align: top;\n    }\n\n    .dataframe thead th {\n        text-align: right;\n    }\n</style>\n<table border=\"1\" class=\"dataframe\">\n  <thead>\n    <tr style=\"text-align: right;\">\n      <th></th>\n      <th>RowNumber</th>\n      <th>CustomerId</th>\n      <th>CreditScore</th>\n      <th>Age</th>\n      <th>Tenure</th>\n      <th>Balance</th>\n      <th>NumOfProducts</th>\n      <th>HasCrCard</th>\n      <th>IsActiveMember</th>\n      <th>EstimatedSalary</th>\n      <th>Exited</th>\n    </tr>\n  </thead>\n  <tbody>\n    <tr>\n      <th>count</th>\n      <td>10000.00000</td>\n      <td>1.000000e+04</td>\n      <td>10000.000000</td>\n      <td>10000.000000</td>\n      <td>9091.000000</td>\n      <td>10000.000000</td>\n      <td>10000.000000</td>\n      <td>10000.00000</td>\n      <td>10000.000000</td>\n      <td>10000.000000</td>\n      <td>10000.000000</td>\n    </tr>\n    <tr>\n      <th>mean</th>\n      <td>5000.50000</td>\n      <td>1.569094e+07</td>\n      <td>650.528800</td>\n      <td>38.921800</td>\n      <td>4.997690</td>\n      <td>76485.889288</td>\n      <td>1.530200</td>\n      <td>0.70550</td>\n      <td>0.515100</td>\n      <td>100090.239881</td>\n      <td>0.203700</td>\n    </tr>\n    <tr>\n      <th>std</th>\n      <td>2886.89568</td>\n      <td>7.193619e+04</td>\n      <td>96.653299</td>\n      <td>10.487806</td>\n      <td>2.894723</td>\n      <td>62397.405202</td>\n      <td>0.581654</td>\n      <td>0.45584</td>\n      <td>0.499797</td>\n      <td>57510.492818</td>\n      <td>0.402769</td>\n    </tr>\n    <tr>\n      <th>min</th>\n      <td>1.00000</td>\n      <td>1.556570e+07</td>\n      <td>350.000000</td>\n      <td>18.000000</td>\n      <td>0.000000</td>\n      <td>0.000000</td>\n      <td>1.000000</td>\n      <td>0.00000</td>\n      <td>0.000000</td>\n      <td>11.580000</td>\n      <td>0.000000</td>\n    </tr>\n    <tr>\n      <th>25%</th>\n      <td>2500.75000</td>\n      <td>1.562853e+07</td>\n      <td>584.000000</td>\n      <td>32.000000</td>\n      <td>2.000000</td>\n      <td>0.000000</td>\n      <td>1.000000</td>\n      <td>0.00000</td>\n      <td>0.000000</td>\n      <td>51002.110000</td>\n      <td>0.000000</td>\n    </tr>\n    <tr>\n      <th>50%</th>\n      <td>5000.50000</td>\n      <td>1.569074e+07</td>\n      <td>652.000000</td>\n      <td>37.000000</td>\n      <td>5.000000</td>\n      <td>97198.540000</td>\n      <td>1.000000</td>\n      <td>1.00000</td>\n      <td>1.000000</td>\n      <td>100193.915000</td>\n      <td>0.000000</td>\n    </tr>\n    <tr>\n      <th>75%</th>\n      <td>7500.25000</td>\n      <td>1.575323e+07</td>\n      <td>718.000000</td>\n      <td>44.000000</td>\n      <td>7.000000</td>\n      <td>127644.240000</td>\n      <td>2.000000</td>\n      <td>1.00000</td>\n      <td>1.000000</td>\n      <td>149388.247500</td>\n      <td>0.000000</td>\n    </tr>\n    <tr>\n      <th>max</th>\n      <td>10000.00000</td>\n      <td>1.581569e+07</td>\n      <td>850.000000</td>\n      <td>92.000000</td>\n      <td>10.000000</td>\n      <td>250898.090000</td>\n      <td>4.000000</td>\n      <td>1.00000</td>\n      <td>1.000000</td>\n      <td>199992.480000</td>\n      <td>1.000000</td>\n    </tr>\n  </tbody>\n</table>\n</div>"
          },
          "metadata": {}
        }
      ],
      "execution_count": 5
    },
    {
      "id": "3be34b3e",
      "cell_type": "code",
      "source": "tenure = df['Tenure']\nmean = tenure.mean()\ntenure.fillna(mean, inplace=True)\ndf['Tenure'] = tenure\ndf.isnull().sum()",
      "metadata": {
        "trusted": true
      },
      "outputs": [
        {
          "execution_count": 6,
          "output_type": "execute_result",
          "data": {
            "text/plain": "RowNumber          0\nCustomerId         0\nSurname            0\nCreditScore        0\nGeography          0\nGender             0\nAge                0\nTenure             0\nBalance            0\nNumOfProducts      0\nHasCrCard          0\nIsActiveMember     0\nEstimatedSalary    0\nExited             0\ndtype: int64"
          },
          "metadata": {}
        }
      ],
      "execution_count": 6
    },
    {
      "id": "c0665ed2-84a9-4cd2-b9b7-e36a781ec21a",
      "cell_type": "markdown",
      "source": "### Убираем дубликаты",
      "metadata": {}
    },
    {
      "id": "63a06caf",
      "cell_type": "code",
      "source": "df = df.drop_duplicates()\ndf.shape",
      "metadata": {
        "trusted": true
      },
      "outputs": [
        {
          "execution_count": 7,
          "output_type": "execute_result",
          "data": {
            "text/plain": "(10000, 14)"
          },
          "metadata": {}
        }
      ],
      "execution_count": 7
    },
    {
      "id": "3cbf682a",
      "cell_type": "code",
      "source": "df.nunique ()",
      "metadata": {
        "trusted": true
      },
      "outputs": [
        {
          "execution_count": 8,
          "output_type": "execute_result",
          "data": {
            "text/plain": "RowNumber          10000\nCustomerId         10000\nSurname             2932\nCreditScore          460\nGeography              3\nGender                 2\nAge                   70\nTenure                12\nBalance             6382\nNumOfProducts          4\nHasCrCard              2\nIsActiveMember         2\nEstimatedSalary     9999\nExited                 2\ndtype: int64"
          },
          "metadata": {}
        }
      ],
      "execution_count": 8
    },
    {
      "id": "c775950b",
      "cell_type": "markdown",
      "source": "Видим, что значения, которые могут влиять на предсказания и которые имеют тип object имеют 2 уникальных значения(Gender) и 3(Geography)",
      "metadata": {}
    },
    {
      "id": "5dd55935",
      "cell_type": "code",
      "source": "df.loc[df[\"Gender\"] == \"Male\", \"Gender\"] = 1\ndf.loc[df[\"Gender\"] == \"Female\", \"Gender\"] = 0\ndf.loc[df[\"Geography\"] == \"France\", \"Geography\"] = 0\ndf.loc[df[\"Geography\"] == \"Spain\", \"Geography\"] = 1\ndf.loc[df[\"Geography\"] == \"Germany\", \"Geography\"] = 2\ndf[\"Geography\"] = pd.to_numeric(df[\"Geography\"])\ndf[\"Gender\"] = pd.to_numeric(df[\"Gender\"])\ndf.info()",
      "metadata": {
        "trusted": true
      },
      "outputs": [
        {
          "name": "stdout",
          "text": "<class 'pandas.core.frame.DataFrame'>\nInt64Index: 10000 entries, 0 to 9999\nData columns (total 14 columns):\n #   Column           Non-Null Count  Dtype  \n---  ------           --------------  -----  \n 0   RowNumber        10000 non-null  int64  \n 1   CustomerId       10000 non-null  int64  \n 2   Surname          10000 non-null  object \n 3   CreditScore      10000 non-null  int64  \n 4   Geography        10000 non-null  int64  \n 5   Gender           10000 non-null  int64  \n 6   Age              10000 non-null  int64  \n 7   Tenure           10000 non-null  float64\n 8   Balance          10000 non-null  float64\n 9   NumOfProducts    10000 non-null  int64  \n 10  HasCrCard        10000 non-null  int64  \n 11  IsActiveMember   10000 non-null  int64  \n 12  EstimatedSalary  10000 non-null  float64\n 13  Exited           10000 non-null  int64  \ndtypes: float64(3), int64(10), object(1)\nmemory usage: 1.1+ MB\n",
          "output_type": "stream"
        }
      ],
      "execution_count": 9
    },
    {
      "id": "b76c731b",
      "cell_type": "code",
      "source": "df = df.drop(['RowNumber', 'CustomerId', 'Surname'], axis=1)\ncorr_matrix = df.corr()\ncorr_matrix",
      "metadata": {
        "trusted": true
      },
      "outputs": [
        {
          "execution_count": 10,
          "output_type": "execute_result",
          "data": {
            "text/plain": "                 CreditScore  Geography    Gender       Age    Tenure  \\\nCreditScore         1.000000   0.008267 -0.002857 -0.003965 -0.000059   \nGeography           0.008267   1.000000 -0.016936  0.048092 -0.002889   \nGender             -0.002857  -0.016936  1.000000 -0.027544  0.012043   \nAge                -0.003965   0.048092 -0.027544  1.000000 -0.012604   \nTenure             -0.000059  -0.002889  0.012043 -0.012604  1.000000   \nBalance             0.006268   0.348700  0.012087  0.028308 -0.007534   \nNumOfProducts       0.012238  -0.006180 -0.021859 -0.030680  0.011409   \nHasCrCard          -0.005458   0.004036  0.005766 -0.011721  0.025978   \nIsActiveMember      0.025651  -0.012692  0.022544  0.085472 -0.030680   \nEstimatedSalary    -0.001384   0.007382 -0.008112 -0.007201  0.010050   \nExited             -0.027094   0.153771 -0.106512  0.285323 -0.015988   \n\n                  Balance  NumOfProducts  HasCrCard  IsActiveMember  \\\nCreditScore      0.006268       0.012238  -0.005458        0.025651   \nGeography        0.348700      -0.006180   0.004036       -0.012692   \nGender           0.012087      -0.021859   0.005766        0.022544   \nAge              0.028308      -0.030680  -0.011721        0.085472   \nTenure          -0.007534       0.011409   0.025978       -0.030680   \nBalance          1.000000      -0.304180  -0.014858       -0.010084   \nNumOfProducts   -0.304180       1.000000   0.003183        0.009612   \nHasCrCard       -0.014858       0.003183   1.000000       -0.011866   \nIsActiveMember  -0.010084       0.009612  -0.011866        1.000000   \nEstimatedSalary  0.012797       0.014204  -0.009933       -0.011421   \nExited           0.118533      -0.047820  -0.007138       -0.156128   \n\n                 EstimatedSalary    Exited  \nCreditScore            -0.001384 -0.027094  \nGeography               0.007382  0.153771  \nGender                 -0.008112 -0.106512  \nAge                    -0.007201  0.285323  \nTenure                  0.010050 -0.015988  \nBalance                 0.012797  0.118533  \nNumOfProducts           0.014204 -0.047820  \nHasCrCard              -0.009933 -0.007138  \nIsActiveMember         -0.011421 -0.156128  \nEstimatedSalary         1.000000  0.012097  \nExited                  0.012097  1.000000  ",
            "text/html": "<div>\n<style scoped>\n    .dataframe tbody tr th:only-of-type {\n        vertical-align: middle;\n    }\n\n    .dataframe tbody tr th {\n        vertical-align: top;\n    }\n\n    .dataframe thead th {\n        text-align: right;\n    }\n</style>\n<table border=\"1\" class=\"dataframe\">\n  <thead>\n    <tr style=\"text-align: right;\">\n      <th></th>\n      <th>CreditScore</th>\n      <th>Geography</th>\n      <th>Gender</th>\n      <th>Age</th>\n      <th>Tenure</th>\n      <th>Balance</th>\n      <th>NumOfProducts</th>\n      <th>HasCrCard</th>\n      <th>IsActiveMember</th>\n      <th>EstimatedSalary</th>\n      <th>Exited</th>\n    </tr>\n  </thead>\n  <tbody>\n    <tr>\n      <th>CreditScore</th>\n      <td>1.000000</td>\n      <td>0.008267</td>\n      <td>-0.002857</td>\n      <td>-0.003965</td>\n      <td>-0.000059</td>\n      <td>0.006268</td>\n      <td>0.012238</td>\n      <td>-0.005458</td>\n      <td>0.025651</td>\n      <td>-0.001384</td>\n      <td>-0.027094</td>\n    </tr>\n    <tr>\n      <th>Geography</th>\n      <td>0.008267</td>\n      <td>1.000000</td>\n      <td>-0.016936</td>\n      <td>0.048092</td>\n      <td>-0.002889</td>\n      <td>0.348700</td>\n      <td>-0.006180</td>\n      <td>0.004036</td>\n      <td>-0.012692</td>\n      <td>0.007382</td>\n      <td>0.153771</td>\n    </tr>\n    <tr>\n      <th>Gender</th>\n      <td>-0.002857</td>\n      <td>-0.016936</td>\n      <td>1.000000</td>\n      <td>-0.027544</td>\n      <td>0.012043</td>\n      <td>0.012087</td>\n      <td>-0.021859</td>\n      <td>0.005766</td>\n      <td>0.022544</td>\n      <td>-0.008112</td>\n      <td>-0.106512</td>\n    </tr>\n    <tr>\n      <th>Age</th>\n      <td>-0.003965</td>\n      <td>0.048092</td>\n      <td>-0.027544</td>\n      <td>1.000000</td>\n      <td>-0.012604</td>\n      <td>0.028308</td>\n      <td>-0.030680</td>\n      <td>-0.011721</td>\n      <td>0.085472</td>\n      <td>-0.007201</td>\n      <td>0.285323</td>\n    </tr>\n    <tr>\n      <th>Tenure</th>\n      <td>-0.000059</td>\n      <td>-0.002889</td>\n      <td>0.012043</td>\n      <td>-0.012604</td>\n      <td>1.000000</td>\n      <td>-0.007534</td>\n      <td>0.011409</td>\n      <td>0.025978</td>\n      <td>-0.030680</td>\n      <td>0.010050</td>\n      <td>-0.015988</td>\n    </tr>\n    <tr>\n      <th>Balance</th>\n      <td>0.006268</td>\n      <td>0.348700</td>\n      <td>0.012087</td>\n      <td>0.028308</td>\n      <td>-0.007534</td>\n      <td>1.000000</td>\n      <td>-0.304180</td>\n      <td>-0.014858</td>\n      <td>-0.010084</td>\n      <td>0.012797</td>\n      <td>0.118533</td>\n    </tr>\n    <tr>\n      <th>NumOfProducts</th>\n      <td>0.012238</td>\n      <td>-0.006180</td>\n      <td>-0.021859</td>\n      <td>-0.030680</td>\n      <td>0.011409</td>\n      <td>-0.304180</td>\n      <td>1.000000</td>\n      <td>0.003183</td>\n      <td>0.009612</td>\n      <td>0.014204</td>\n      <td>-0.047820</td>\n    </tr>\n    <tr>\n      <th>HasCrCard</th>\n      <td>-0.005458</td>\n      <td>0.004036</td>\n      <td>0.005766</td>\n      <td>-0.011721</td>\n      <td>0.025978</td>\n      <td>-0.014858</td>\n      <td>0.003183</td>\n      <td>1.000000</td>\n      <td>-0.011866</td>\n      <td>-0.009933</td>\n      <td>-0.007138</td>\n    </tr>\n    <tr>\n      <th>IsActiveMember</th>\n      <td>0.025651</td>\n      <td>-0.012692</td>\n      <td>0.022544</td>\n      <td>0.085472</td>\n      <td>-0.030680</td>\n      <td>-0.010084</td>\n      <td>0.009612</td>\n      <td>-0.011866</td>\n      <td>1.000000</td>\n      <td>-0.011421</td>\n      <td>-0.156128</td>\n    </tr>\n    <tr>\n      <th>EstimatedSalary</th>\n      <td>-0.001384</td>\n      <td>0.007382</td>\n      <td>-0.008112</td>\n      <td>-0.007201</td>\n      <td>0.010050</td>\n      <td>0.012797</td>\n      <td>0.014204</td>\n      <td>-0.009933</td>\n      <td>-0.011421</td>\n      <td>1.000000</td>\n      <td>0.012097</td>\n    </tr>\n    <tr>\n      <th>Exited</th>\n      <td>-0.027094</td>\n      <td>0.153771</td>\n      <td>-0.106512</td>\n      <td>0.285323</td>\n      <td>-0.015988</td>\n      <td>0.118533</td>\n      <td>-0.047820</td>\n      <td>-0.007138</td>\n      <td>-0.156128</td>\n      <td>0.012097</td>\n      <td>1.000000</td>\n    </tr>\n  </tbody>\n</table>\n</div>"
          },
          "metadata": {}
        }
      ],
      "execution_count": 10
    },
    {
      "id": "fbd7af02",
      "cell_type": "code",
      "source": "y = df['Exited']\nX = df.drop(['Exited'], axis = 1)\nX_train, X_test, y_train, y_test = train_test_split(X, y, test_size = 0.3, random_state = 42)",
      "metadata": {
        "trusted": true
      },
      "outputs": [],
      "execution_count": 11
    },
    {
      "id": "3bd47e2d",
      "cell_type": "code",
      "source": "k_range = list(range(1, 31))\nparam_grid = dict(n_neighbors=k_range)\ngrid = GridSearchCV(KNeighborsClassifier(), param_grid, cv=10, scoring='accuracy', return_train_score=False,verbose=1)\ngrid_search=grid.fit(X_train, y_train)",
      "metadata": {
        "trusted": true
      },
      "outputs": [
        {
          "name": "stdout",
          "text": "Fitting 10 folds for each of 30 candidates, totalling 300 fits\n",
          "output_type": "stream"
        }
      ],
      "execution_count": 12
    },
    {
      "id": "0b62913a",
      "cell_type": "code",
      "source": "grid_search.best_params_",
      "metadata": {
        "trusted": true
      },
      "outputs": [
        {
          "execution_count": 13,
          "output_type": "execute_result",
          "data": {
            "text/plain": "{'n_neighbors': 20}"
          },
          "metadata": {}
        }
      ],
      "execution_count": 13
    },
    {
      "id": "3bb7f5a3",
      "cell_type": "code",
      "source": "accuracy = grid_search.best_score_ *100\nprint(\"Accuracy for our training dataset with tuning is : {:.2f}%\".format(accuracy) )",
      "metadata": {
        "trusted": true
      },
      "outputs": [
        {
          "name": "stdout",
          "text": "Accuracy for our training dataset with tuning is : 79.26%\n",
          "output_type": "stream"
        }
      ],
      "execution_count": 14
    },
    {
      "id": "f6ea31bc",
      "cell_type": "code",
      "source": "knn = KNeighborsClassifier(n_neighbors=20)\nknn.fit(X_train, y_train)\ny_test_hat=knn.predict(X_test) \ntest_accuracy = accuracy_score(y_test,y_test_hat)*100\nprint(\"Accuracy for our testing dataset with tuning is : {:.2f}%\".format(test_accuracy) )",
      "metadata": {
        "trusted": true
      },
      "outputs": [
        {
          "name": "stdout",
          "text": "Accuracy for our testing dataset with tuning is : 80.20%\n",
          "output_type": "stream"
        }
      ],
      "execution_count": 15
    },
    {
      "id": "c1a21fd7",
      "cell_type": "code",
      "source": "knn.predict(X_test)",
      "metadata": {
        "trusted": true
      },
      "outputs": [
        {
          "execution_count": 16,
          "output_type": "execute_result",
          "data": {
            "text/plain": "array([0, 0, 0, ..., 0, 0, 0], dtype=int64)"
          },
          "metadata": {}
        }
      ],
      "execution_count": 16
    },
    {
      "id": "b109b30e",
      "cell_type": "code",
      "source": "from sklearn.linear_model import LogisticRegression\nimport numpy as np\n\ngrid={\"C\":np.logspace(-3,3,7)}\nlogreg=LogisticRegression()\nlogreg_cv=GridSearchCV(logreg,grid,cv=10, scoring='accuracy', return_train_score=False,verbose=1)\nlogreg_cv.fit(X_train,y_train)\n\nprint(\"tuned hpyerparameters :(best parameters) \",logreg_cv.best_params_)\nprint(\"accuracy :\",logreg_cv.best_score_)",
      "metadata": {
        "trusted": true
      },
      "outputs": [
        {
          "name": "stdout",
          "text": "Fitting 10 folds for each of 7 candidates, totalling 70 fits\ntuned hpyerparameters :(best parameters)  {'C': 0.001}\naccuracy : 0.7851428571428571\n",
          "output_type": "stream"
        }
      ],
      "execution_count": 21
    },
    {
      "id": "ede61c4d",
      "cell_type": "code",
      "source": "logreg=LogisticRegression(C=0.001)\nlogreg.fit(X_train, y_train)\ny_test_hat=logreg.predict(X_test) \ntest_accuracy = accuracy_score(y_test,y_test_hat)*100\nprint(\"Accuracy for our testing dataset with tuning is : {:.2f}%\".format(test_accuracy) )",
      "metadata": {
        "trusted": true
      },
      "outputs": [
        {
          "name": "stdout",
          "text": "Accuracy for our testing dataset with tuning is : 80.20%\n",
          "output_type": "stream"
        }
      ],
      "execution_count": 22
    },
    {
      "id": "9bd6559c",
      "cell_type": "code",
      "source": "logreg.predict(X_test)",
      "metadata": {
        "trusted": true
      },
      "outputs": [
        {
          "execution_count": 23,
          "output_type": "execute_result",
          "data": {
            "text/plain": "array([0, 0, 0, ..., 0, 0, 0], dtype=int64)"
          },
          "metadata": {}
        }
      ],
      "execution_count": 23
    },
    {
      "id": "0fc5cd77",
      "cell_type": "code",
      "source": "from sklearn.naive_bayes import GaussianNB  \n\nnb_classifier = GaussianNB()\nparams_NB = {'var_smoothing': np.logspace(0,-9, num=100)}\nNB_cv=GridSearchCV(nb_classifier, params_NB, cv=10, scoring='accuracy', return_train_score=False,verbose=1)\nNB_cv.fit(X_train,y_train)",
      "metadata": {
        "trusted": true
      },
      "outputs": [
        {
          "name": "stdout",
          "text": "Fitting 10 folds for each of 100 candidates, totalling 1000 fits\n",
          "output_type": "stream"
        },
        {
          "execution_count": 25,
          "output_type": "execute_result",
          "data": {
            "text/plain": "GridSearchCV(cv=10, estimator=GaussianNB(),\n             param_grid={'var_smoothing': array([1.00000000e+00, 8.11130831e-01, 6.57933225e-01, 5.33669923e-01,\n       4.32876128e-01, 3.51119173e-01, 2.84803587e-01, 2.31012970e-01,\n       1.87381742e-01, 1.51991108e-01, 1.23284674e-01, 1.00000000e-01,\n       8.11130831e-02, 6.57933225e-02, 5.33669923e-02, 4.32876128e-02,\n       3.51119173e-02, 2.84803587e-02, 2.3...\n       1.23284674e-07, 1.00000000e-07, 8.11130831e-08, 6.57933225e-08,\n       5.33669923e-08, 4.32876128e-08, 3.51119173e-08, 2.84803587e-08,\n       2.31012970e-08, 1.87381742e-08, 1.51991108e-08, 1.23284674e-08,\n       1.00000000e-08, 8.11130831e-09, 6.57933225e-09, 5.33669923e-09,\n       4.32876128e-09, 3.51119173e-09, 2.84803587e-09, 2.31012970e-09,\n       1.87381742e-09, 1.51991108e-09, 1.23284674e-09, 1.00000000e-09])},\n             scoring='accuracy', verbose=1)",
            "text/html": "<style>#sk-container-id-2 {color: black;}#sk-container-id-2 pre{padding: 0;}#sk-container-id-2 div.sk-toggleable {background-color: white;}#sk-container-id-2 label.sk-toggleable__label {cursor: pointer;display: block;width: 100%;margin-bottom: 0;padding: 0.3em;box-sizing: border-box;text-align: center;}#sk-container-id-2 label.sk-toggleable__label-arrow:before {content: \"▸\";float: left;margin-right: 0.25em;color: #696969;}#sk-container-id-2 label.sk-toggleable__label-arrow:hover:before {color: black;}#sk-container-id-2 div.sk-estimator:hover label.sk-toggleable__label-arrow:before {color: black;}#sk-container-id-2 div.sk-toggleable__content {max-height: 0;max-width: 0;overflow: hidden;text-align: left;background-color: #f0f8ff;}#sk-container-id-2 div.sk-toggleable__content pre {margin: 0.2em;color: black;border-radius: 0.25em;background-color: #f0f8ff;}#sk-container-id-2 input.sk-toggleable__control:checked~div.sk-toggleable__content {max-height: 200px;max-width: 100%;overflow: auto;}#sk-container-id-2 input.sk-toggleable__control:checked~label.sk-toggleable__label-arrow:before {content: \"▾\";}#sk-container-id-2 div.sk-estimator input.sk-toggleable__control:checked~label.sk-toggleable__label {background-color: #d4ebff;}#sk-container-id-2 div.sk-label input.sk-toggleable__control:checked~label.sk-toggleable__label {background-color: #d4ebff;}#sk-container-id-2 input.sk-hidden--visually {border: 0;clip: rect(1px 1px 1px 1px);clip: rect(1px, 1px, 1px, 1px);height: 1px;margin: -1px;overflow: hidden;padding: 0;position: absolute;width: 1px;}#sk-container-id-2 div.sk-estimator {font-family: monospace;background-color: #f0f8ff;border: 1px dotted black;border-radius: 0.25em;box-sizing: border-box;margin-bottom: 0.5em;}#sk-container-id-2 div.sk-estimator:hover {background-color: #d4ebff;}#sk-container-id-2 div.sk-parallel-item::after {content: \"\";width: 100%;border-bottom: 1px solid gray;flex-grow: 1;}#sk-container-id-2 div.sk-label:hover label.sk-toggleable__label {background-color: #d4ebff;}#sk-container-id-2 div.sk-serial::before {content: \"\";position: absolute;border-left: 1px solid gray;box-sizing: border-box;top: 0;bottom: 0;left: 50%;z-index: 0;}#sk-container-id-2 div.sk-serial {display: flex;flex-direction: column;align-items: center;background-color: white;padding-right: 0.2em;padding-left: 0.2em;position: relative;}#sk-container-id-2 div.sk-item {position: relative;z-index: 1;}#sk-container-id-2 div.sk-parallel {display: flex;align-items: stretch;justify-content: center;background-color: white;position: relative;}#sk-container-id-2 div.sk-item::before, #sk-container-id-2 div.sk-parallel-item::before {content: \"\";position: absolute;border-left: 1px solid gray;box-sizing: border-box;top: 0;bottom: 0;left: 50%;z-index: -1;}#sk-container-id-2 div.sk-parallel-item {display: flex;flex-direction: column;z-index: 1;position: relative;background-color: white;}#sk-container-id-2 div.sk-parallel-item:first-child::after {align-self: flex-end;width: 50%;}#sk-container-id-2 div.sk-parallel-item:last-child::after {align-self: flex-start;width: 50%;}#sk-container-id-2 div.sk-parallel-item:only-child::after {width: 0;}#sk-container-id-2 div.sk-dashed-wrapped {border: 1px dashed gray;margin: 0 0.4em 0.5em 0.4em;box-sizing: border-box;padding-bottom: 0.4em;background-color: white;}#sk-container-id-2 div.sk-label label {font-family: monospace;font-weight: bold;display: inline-block;line-height: 1.2em;}#sk-container-id-2 div.sk-label-container {text-align: center;}#sk-container-id-2 div.sk-container {/* jupyter's `normalize.less` sets `[hidden] { display: none; }` but bootstrap.min.css set `[hidden] { display: none !important; }` so we also need the `!important` here to be able to override the default hidden behavior on the sphinx rendered scikit-learn.org. See: https://github.com/scikit-learn/scikit-learn/issues/21755 */display: inline-block !important;position: relative;}#sk-container-id-2 div.sk-text-repr-fallback {display: none;}</style><div id=\"sk-container-id-2\" class=\"sk-top-container\"><div class=\"sk-text-repr-fallback\"><pre>GridSearchCV(cv=10, estimator=GaussianNB(),\n             param_grid={&#x27;var_smoothing&#x27;: array([1.00000000e+00, 8.11130831e-01, 6.57933225e-01, 5.33669923e-01,\n       4.32876128e-01, 3.51119173e-01, 2.84803587e-01, 2.31012970e-01,\n       1.87381742e-01, 1.51991108e-01, 1.23284674e-01, 1.00000000e-01,\n       8.11130831e-02, 6.57933225e-02, 5.33669923e-02, 4.32876128e-02,\n       3.51119173e-02, 2.84803587e-02, 2.3...\n       1.23284674e-07, 1.00000000e-07, 8.11130831e-08, 6.57933225e-08,\n       5.33669923e-08, 4.32876128e-08, 3.51119173e-08, 2.84803587e-08,\n       2.31012970e-08, 1.87381742e-08, 1.51991108e-08, 1.23284674e-08,\n       1.00000000e-08, 8.11130831e-09, 6.57933225e-09, 5.33669923e-09,\n       4.32876128e-09, 3.51119173e-09, 2.84803587e-09, 2.31012970e-09,\n       1.87381742e-09, 1.51991108e-09, 1.23284674e-09, 1.00000000e-09])},\n             scoring=&#x27;accuracy&#x27;, verbose=1)</pre><b>In a Jupyter environment, please rerun this cell to show the HTML representation or trust the notebook. <br />On GitHub, the HTML representation is unable to render, please try loading this page with nbviewer.org.</b></div><div class=\"sk-container\" hidden><div class=\"sk-item sk-dashed-wrapped\"><div class=\"sk-label-container\"><div class=\"sk-label sk-toggleable\"><input class=\"sk-toggleable__control sk-hidden--visually\" id=\"sk-estimator-id-4\" type=\"checkbox\" ><label for=\"sk-estimator-id-4\" class=\"sk-toggleable__label sk-toggleable__label-arrow\">GridSearchCV</label><div class=\"sk-toggleable__content\"><pre>GridSearchCV(cv=10, estimator=GaussianNB(),\n             param_grid={&#x27;var_smoothing&#x27;: array([1.00000000e+00, 8.11130831e-01, 6.57933225e-01, 5.33669923e-01,\n       4.32876128e-01, 3.51119173e-01, 2.84803587e-01, 2.31012970e-01,\n       1.87381742e-01, 1.51991108e-01, 1.23284674e-01, 1.00000000e-01,\n       8.11130831e-02, 6.57933225e-02, 5.33669923e-02, 4.32876128e-02,\n       3.51119173e-02, 2.84803587e-02, 2.3...\n       1.23284674e-07, 1.00000000e-07, 8.11130831e-08, 6.57933225e-08,\n       5.33669923e-08, 4.32876128e-08, 3.51119173e-08, 2.84803587e-08,\n       2.31012970e-08, 1.87381742e-08, 1.51991108e-08, 1.23284674e-08,\n       1.00000000e-08, 8.11130831e-09, 6.57933225e-09, 5.33669923e-09,\n       4.32876128e-09, 3.51119173e-09, 2.84803587e-09, 2.31012970e-09,\n       1.87381742e-09, 1.51991108e-09, 1.23284674e-09, 1.00000000e-09])},\n             scoring=&#x27;accuracy&#x27;, verbose=1)</pre></div></div></div><div class=\"sk-parallel\"><div class=\"sk-parallel-item\"><div class=\"sk-item\"><div class=\"sk-label-container\"><div class=\"sk-label sk-toggleable\"><input class=\"sk-toggleable__control sk-hidden--visually\" id=\"sk-estimator-id-5\" type=\"checkbox\" ><label for=\"sk-estimator-id-5\" class=\"sk-toggleable__label sk-toggleable__label-arrow\">estimator: GaussianNB</label><div class=\"sk-toggleable__content\"><pre>GaussianNB()</pre></div></div></div><div class=\"sk-serial\"><div class=\"sk-item\"><div class=\"sk-estimator sk-toggleable\"><input class=\"sk-toggleable__control sk-hidden--visually\" id=\"sk-estimator-id-6\" type=\"checkbox\" ><label for=\"sk-estimator-id-6\" class=\"sk-toggleable__label sk-toggleable__label-arrow\">GaussianNB</label><div class=\"sk-toggleable__content\"><pre>GaussianNB()</pre></div></div></div></div></div></div></div></div></div></div>"
          },
          "metadata": {}
        }
      ],
      "execution_count": 25
    },
    {
      "id": "894ee715-8395-4270-813e-b5407ad7fe3c",
      "cell_type": "code",
      "source": "NB_cv.best_params_",
      "metadata": {
        "trusted": true
      },
      "outputs": [
        {
          "execution_count": 26,
          "output_type": "execute_result",
          "data": {
            "text/plain": "{'var_smoothing': 1.0}"
          },
          "metadata": {}
        }
      ],
      "execution_count": 26
    },
    {
      "id": "39771ddb-150a-4b93-bc5b-f6ebc4c850ae",
      "cell_type": "code",
      "source": "accuracy = NB_cv.best_score_ *100\nprint(\"Accuracy for our training dataset with tuning is : {:.2f}%\".format(accuracy) )",
      "metadata": {
        "trusted": true
      },
      "outputs": [
        {
          "name": "stdout",
          "text": "Accuracy for our training dataset with tuning is : 79.24%\n",
          "output_type": "stream"
        }
      ],
      "execution_count": 27
    },
    {
      "id": "1e2cdbe9-b489-4f90-8f71-d03372ee04b6",
      "cell_type": "code",
      "source": "NB=GaussianNB(var_smoothing = 1.0)\nNB.fit(X_train, y_train)\ny_test_hat=NB.predict(X_test) \ntest_accuracy = accuracy_score(y_test,y_test_hat)*100\nprint(\"Accuracy for our testing dataset with tuning is : {:.2f}%\".format(test_accuracy) )",
      "metadata": {
        "trusted": true
      },
      "outputs": [
        {
          "name": "stdout",
          "text": "Accuracy for our testing dataset with tuning is : 80.53%\n",
          "output_type": "stream"
        }
      ],
      "execution_count": 29
    },
    {
      "id": "51a59279-f511-471b-8354-471bc0562fb8",
      "cell_type": "code",
      "source": "NB.predict(X_test)",
      "metadata": {
        "trusted": true
      },
      "outputs": [
        {
          "execution_count": 30,
          "output_type": "execute_result",
          "data": {
            "text/plain": "array([0, 0, 0, ..., 0, 0, 0], dtype=int64)"
          },
          "metadata": {}
        }
      ],
      "execution_count": 30
    },
    {
      "id": "aecbabf2-2adc-4944-b144-36d8603e9e34",
      "cell_type": "code",
      "source": "",
      "metadata": {},
      "outputs": [],
      "execution_count": null
    }
  ]
}